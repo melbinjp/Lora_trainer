{
 "cells": [
  {
   "cell_type": "markdown",
   "id": "6932574b",
   "metadata": {},
   "source": [
    "# LoRA Streamlit UI: Quickstart for Google Colab\n",
    "This notebook will help you set up and launch the LoRA Streamlit UI in Google Colab, providing a public link to your app (like Gradio does)."
   ]
  },
  {
   "cell_type": "code",
   "execution_count": null,
   "id": "91357f0f",
   "metadata": {},
   "outputs": [],
   "source": [
    "# 1. Clone your repo (published repo URL)\n",
    "!git clone https://github.com/melbinjp/Lora_trainer.git\n",
    "%cd Lora_trainer"
   ]
  },
  {
   "cell_type": "code",
   "execution_count": null,
   "id": "ae277bb9",
   "metadata": {},
   "outputs": [],
   "source": [
    "# 2. Ensure setup.sh is executable and run it\n",
    "!chmod +x setup.sh\n",
    "!bash setup.sh"
   ]
  },
  {
   "cell_type": "code",
   "execution_count": null,
   "id": "d00e5767",
   "metadata": {},
   "outputs": [],
   "source": [
    "# 3. Install Python dependencies (if not already installed)\n",
    "!pip install -r requirements.txt"
   ]
  },
  {
   "cell_type": "code",
   "execution_count": null,
   "id": "118bef35",
   "metadata": {},
   "outputs": [],
   "source": [
    "# 4. Install and set up ngrok for public access\n",
    "!pip install pyngrok\n",
    "from pyngrok import ngrok\n",
    "public_url = ngrok.connect(8080)\n",
    "print(f\"Streamlit public URL: {public_url}\")"
   ]
  },
  {
   "cell_type": "code",
   "execution_count": null,
   "id": "784af877",
   "metadata": {},
   "outputs": [],
   "source": [
    "# 5. Start Streamlit in the background\n",
    "!streamlit run test.py --server.port=8080 --server.enableCORS=false --server.enableXsrfProtection=false &"
   ]
  }
 ],
 "metadata": {
  "language_info": {
   "name": "python"
  }
 },
 "nbformat": 4,
 "nbformat_minor": 5
}
