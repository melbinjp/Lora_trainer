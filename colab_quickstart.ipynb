{
 "cells": [
  {
   "cell_type": "code",
   "execution_count": null,
   "id": "78296a12",
   "metadata": {},
   "outputs": [],
   "source": [
    "# LoRA Streamlit UI: Quickstart for Google Colab\n",
    "\n",
    "# 1. Clone your repo (published repo URL)\n",
    "!git clone https://github.com/melbinjp/Lora_trainer.git\n",
    "%cd Lora_trainer\n",
    "\n",
    "# 2. Run the smart setup script\n",
    "!bash setup.sh\n",
    "\n",
    "# 3. Start Streamlit (add --share for public link)\n",
    "!streamlit run test.py --server.port=8080 --server.enableCORS=false\n",
    "\n",
    "# (Optional) For public sharing, use:\n",
    "# !streamlit run test.py --server.port=8080 --server.enableCORS=false --server.enableXsrfProtection=false"
   ]
  }
 ],
 "metadata": {
  "language_info": {
   "name": "python"
  }
 },
 "nbformat": 4,
 "nbformat_minor": 5
}
